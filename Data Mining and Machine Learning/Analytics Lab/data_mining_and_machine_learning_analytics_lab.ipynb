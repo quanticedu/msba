{
  "nbformat": 4,
  "nbformat_minor": 0,
  "metadata": {
    "colab": {
      "provenance": [],
      "include_colab_link": true
    },
    "kernelspec": {
      "name": "python3",
      "display_name": "Python 3"
    },
    "language_info": {
      "name": "python"
    }
  },
  "cells": [
    {
      "cell_type": "markdown",
      "metadata": {
        "id": "view-in-github",
        "colab_type": "text"
      },
      "source": [
        "<a href=\"https://colab.research.google.com/github/quanticedu/MSBA/blob/main/Data%20Mining%20and%20Machine%20Learning/Analytics%20Lab/data_mining_and_machine_learning_analytics_lab.ipynb\" target=\"_parent\"><img src=\"https://colab.research.google.com/assets/colab-badge.svg\" alt=\"Open In Colab\"/></a>"
      ]
    },
    {
      "cell_type": "markdown",
      "source": [
        "#**Analytics Lab: Predicting Drug Responses with KNN Classification**"
      ],
      "metadata": {
        "id": "dXBsH4BsYSfY"
      }
    },
    {
      "cell_type": "markdown",
      "source": [
        "##Scenario\n",
        "\n",
        "You've been hired by Genmed, a leading pharmaceutical company, to participate in an innovative project to classify patients based on their genetic and clinical profiles, aiming to develop personalized medicine strategies to enhance therapeutic outcomes and minimize adverse effects. 💊\n",
        "\n",
        "**The Task: Use the provided dataset of patients' genetic and clinical profiles and the K-Nearest Neighbors (KNN) algorithm to predict whether a patient will respond positively to a new drug.**\n",
        "\n",
        "\n",
        "You must navigate the intricacies of feature selection to pinpoint the most impactful genetic and clinical markers, understand the sensitivity of various distance metrics in the KNN algorithm, and determine the optimal value of 'K' to avoid underfitting and overfitting. Additionally, you face the task of reducing the dimensionality of the dataset without losing critical information, all while ensuring that your model is validated with rigorous cross-validation techniques.\n",
        "\n",
        "\n",
        "##Critical Thinking\n",
        "\n",
        "1. How can we identify which features are most relevant for predicting drug efficacy, and what risks do we take by removing features that seem less important in a KNN model?\n",
        "\n",
        "2. How do different distance metrics (like Euclidean vs. Manhattan) influence KNN performance in high-dimensional genetic or clinical data, and how should we decide which one to use?\n",
        "\n",
        "3. How does applying PCA affect the speed and accuracy of KNN? What trade-offs come with reducing dimensions at the cost of some information loss?"
      ],
      "metadata": {
        "id": "DpOxfdk3PNz0"
      }
    },
    {
      "cell_type": "markdown",
      "source": [
        "\n",
        "##Technical Challenges\n",
        "\n",
        "1.  **Feature Importance and Selection**: Utilize feature selection techniques to determine the most relevant features in the provided dataset. Implement methods like correlation analysis or feature importance ranking to Identify the most impactful features for predicting drug efficacy using KNN.\n",
        "\n",
        "2. **Distance Metric Sensitivity Analysis**: Experiment with various distance metrics (e.g., Euclidean, Manhattan) in the KNN algorithm and analyze their performance on the provided dataset in a high-dimensional space.\n",
        "\n",
        "3. **Optimizing the Value of 'K'**: Conduct a search for the best 'K' value, considering the balance between underfitting and overfitting. Evaluate the model's performance at different 'K' values.\n",
        "\n",
        "4. **Dimensionality Reduction and Its Effects**: Apply a dimensionality reduction technique like PCA to the dataset and observe the changes in KNN's performance.\n",
        "\n",
        "5. **Model Evaluation and Validation**: Use cross-validation and various performance metrics (accuracy, precision, recall, F1-score) to assess the KNN model trained on the selected features.\n",
        "\n",
        "Below, we'll show possible solutions for these technical challenges."
      ],
      "metadata": {
        "id": "qRuR5NKDio08"
      }
    },
    {
      "cell_type": "markdown",
      "source": [
        "##Setup\n",
        "\n",
        "Use the following code to set up the Python modules you'll need and load the dataset."
      ],
      "metadata": {
        "id": "jiy77ioCNajF"
      }
    },
    {
      "cell_type": "code",
      "source": [
        "import pandas as pd\n",
        "import numpy as np\n",
        "from sklearn.model_selection import train_test_split, GridSearchCV, cross_val_score\n",
        "from sklearn.neighbors import KNeighborsClassifier\n",
        "from sklearn.metrics import accuracy_score, precision_score, recall_score, f1_score, confusion_matrix\n",
        "from sklearn.preprocessing import StandardScaler, LabelEncoder\n",
        "from sklearn.decomposition import PCA\n",
        "import matplotlib.pyplot as plt\n",
        "import seaborn as sns"
      ],
      "metadata": {
        "id": "rRxp9gn6PsXl"
      },
      "execution_count": null,
      "outputs": []
    },
    {
      "cell_type": "code",
      "source": [
        "df = pd.read_csv('patient_profiles.csv')\n",
        "df.head()"
      ],
      "metadata": {
        "colab": {
          "base_uri": "https://localhost:8080/",
          "height": 261
        },
        "id": "TG2bbkG8P3Ge",
        "outputId": "bb95f255-5796-4161-bd7b-13df4cdf05a6"
      },
      "execution_count": null,
      "outputs": [
        {
          "output_type": "execute_result",
          "data": {
            "text/plain": [
              "   Age  Gender        BMI  Genetic Marker 1  Genetic Marker 2  Blood Pressure  \\\n",
              "0   64       1  32.528431                 1                 1      104.017642   \n",
              "1   67       0  30.645187                 1                 0      114.353984   \n",
              "2   73       0  26.136138                 1                 0      139.636821   \n",
              "3   20       1  29.510387                 0                 0      167.971809   \n",
              "4   23       1  28.319766                 0                 1      117.586699   \n",
              "\n",
              "   Cholesterol Level Drug Efficacy  \n",
              "0         219.212998            No  \n",
              "1         207.447131           Yes  \n",
              "2         191.115712           Yes  \n",
              "3         220.038642           Yes  \n",
              "4         230.816386            No  "
            ],
            "text/html": [
              "\n",
              "  <div id=\"df-281eac8a-80fb-44cb-a481-6963ec7598cb\" class=\"colab-df-container\">\n",
              "    <div>\n",
              "<style scoped>\n",
              "    .dataframe tbody tr th:only-of-type {\n",
              "        vertical-align: middle;\n",
              "    }\n",
              "\n",
              "    .dataframe tbody tr th {\n",
              "        vertical-align: top;\n",
              "    }\n",
              "\n",
              "    .dataframe thead th {\n",
              "        text-align: right;\n",
              "    }\n",
              "</style>\n",
              "<table border=\"1\" class=\"dataframe\">\n",
              "  <thead>\n",
              "    <tr style=\"text-align: right;\">\n",
              "      <th></th>\n",
              "      <th>Age</th>\n",
              "      <th>Gender</th>\n",
              "      <th>BMI</th>\n",
              "      <th>Genetic Marker 1</th>\n",
              "      <th>Genetic Marker 2</th>\n",
              "      <th>Blood Pressure</th>\n",
              "      <th>Cholesterol Level</th>\n",
              "      <th>Drug Efficacy</th>\n",
              "    </tr>\n",
              "  </thead>\n",
              "  <tbody>\n",
              "    <tr>\n",
              "      <th>0</th>\n",
              "      <td>64</td>\n",
              "      <td>1</td>\n",
              "      <td>32.528431</td>\n",
              "      <td>1</td>\n",
              "      <td>1</td>\n",
              "      <td>104.017642</td>\n",
              "      <td>219.212998</td>\n",
              "      <td>No</td>\n",
              "    </tr>\n",
              "    <tr>\n",
              "      <th>1</th>\n",
              "      <td>67</td>\n",
              "      <td>0</td>\n",
              "      <td>30.645187</td>\n",
              "      <td>1</td>\n",
              "      <td>0</td>\n",
              "      <td>114.353984</td>\n",
              "      <td>207.447131</td>\n",
              "      <td>Yes</td>\n",
              "    </tr>\n",
              "    <tr>\n",
              "      <th>2</th>\n",
              "      <td>73</td>\n",
              "      <td>0</td>\n",
              "      <td>26.136138</td>\n",
              "      <td>1</td>\n",
              "      <td>0</td>\n",
              "      <td>139.636821</td>\n",
              "      <td>191.115712</td>\n",
              "      <td>Yes</td>\n",
              "    </tr>\n",
              "    <tr>\n",
              "      <th>3</th>\n",
              "      <td>20</td>\n",
              "      <td>1</td>\n",
              "      <td>29.510387</td>\n",
              "      <td>0</td>\n",
              "      <td>0</td>\n",
              "      <td>167.971809</td>\n",
              "      <td>220.038642</td>\n",
              "      <td>Yes</td>\n",
              "    </tr>\n",
              "    <tr>\n",
              "      <th>4</th>\n",
              "      <td>23</td>\n",
              "      <td>1</td>\n",
              "      <td>28.319766</td>\n",
              "      <td>0</td>\n",
              "      <td>1</td>\n",
              "      <td>117.586699</td>\n",
              "      <td>230.816386</td>\n",
              "      <td>No</td>\n",
              "    </tr>\n",
              "  </tbody>\n",
              "</table>\n",
              "</div>\n",
              "    <div class=\"colab-df-buttons\">\n",
              "\n",
              "  <div class=\"colab-df-container\">\n",
              "    <button class=\"colab-df-convert\" onclick=\"convertToInteractive('df-281eac8a-80fb-44cb-a481-6963ec7598cb')\"\n",
              "            title=\"Convert this dataframe to an interactive table.\"\n",
              "            style=\"display:none;\">\n",
              "\n",
              "  <svg xmlns=\"http://www.w3.org/2000/svg\" height=\"24px\" viewBox=\"0 -960 960 960\">\n",
              "    <path d=\"M120-120v-720h720v720H120Zm60-500h600v-160H180v160Zm220 220h160v-160H400v160Zm0 220h160v-160H400v160ZM180-400h160v-160H180v160Zm440 0h160v-160H620v160ZM180-180h160v-160H180v160Zm440 0h160v-160H620v160Z\"/>\n",
              "  </svg>\n",
              "    </button>\n",
              "\n",
              "  <style>\n",
              "    .colab-df-container {\n",
              "      display:flex;\n",
              "      gap: 12px;\n",
              "    }\n",
              "\n",
              "    .colab-df-convert {\n",
              "      background-color: #E8F0FE;\n",
              "      border: none;\n",
              "      border-radius: 50%;\n",
              "      cursor: pointer;\n",
              "      display: none;\n",
              "      fill: #1967D2;\n",
              "      height: 32px;\n",
              "      padding: 0 0 0 0;\n",
              "      width: 32px;\n",
              "    }\n",
              "\n",
              "    .colab-df-convert:hover {\n",
              "      background-color: #E2EBFA;\n",
              "      box-shadow: 0px 1px 2px rgba(60, 64, 67, 0.3), 0px 1px 3px 1px rgba(60, 64, 67, 0.15);\n",
              "      fill: #174EA6;\n",
              "    }\n",
              "\n",
              "    .colab-df-buttons div {\n",
              "      margin-bottom: 4px;\n",
              "    }\n",
              "\n",
              "    [theme=dark] .colab-df-convert {\n",
              "      background-color: #3B4455;\n",
              "      fill: #D2E3FC;\n",
              "    }\n",
              "\n",
              "    [theme=dark] .colab-df-convert:hover {\n",
              "      background-color: #434B5C;\n",
              "      box-shadow: 0px 1px 3px 1px rgba(0, 0, 0, 0.15);\n",
              "      filter: drop-shadow(0px 1px 2px rgba(0, 0, 0, 0.3));\n",
              "      fill: #FFFFFF;\n",
              "    }\n",
              "  </style>\n",
              "\n",
              "    <script>\n",
              "      const buttonEl =\n",
              "        document.querySelector('#df-281eac8a-80fb-44cb-a481-6963ec7598cb button.colab-df-convert');\n",
              "      buttonEl.style.display =\n",
              "        google.colab.kernel.accessAllowed ? 'block' : 'none';\n",
              "\n",
              "      async function convertToInteractive(key) {\n",
              "        const element = document.querySelector('#df-281eac8a-80fb-44cb-a481-6963ec7598cb');\n",
              "        const dataTable =\n",
              "          await google.colab.kernel.invokeFunction('convertToInteractive',\n",
              "                                                    [key], {});\n",
              "        if (!dataTable) return;\n",
              "\n",
              "        const docLinkHtml = 'Like what you see? Visit the ' +\n",
              "          '<a target=\"_blank\" href=https://colab.research.google.com/notebooks/data_table.ipynb>data table notebook</a>'\n",
              "          + ' to learn more about interactive tables.';\n",
              "        element.innerHTML = '';\n",
              "        dataTable['output_type'] = 'display_data';\n",
              "        await google.colab.output.renderOutput(dataTable, element);\n",
              "        const docLink = document.createElement('div');\n",
              "        docLink.innerHTML = docLinkHtml;\n",
              "        element.appendChild(docLink);\n",
              "      }\n",
              "    </script>\n",
              "  </div>\n",
              "\n",
              "\n",
              "<div id=\"df-a081eddd-8d1b-42de-a56d-22207894470b\">\n",
              "  <button class=\"colab-df-quickchart\" onclick=\"quickchart('df-a081eddd-8d1b-42de-a56d-22207894470b')\"\n",
              "            title=\"Suggest charts\"\n",
              "            style=\"display:none;\">\n",
              "\n",
              "<svg xmlns=\"http://www.w3.org/2000/svg\" height=\"24px\"viewBox=\"0 0 24 24\"\n",
              "     width=\"24px\">\n",
              "    <g>\n",
              "        <path d=\"M19 3H5c-1.1 0-2 .9-2 2v14c0 1.1.9 2 2 2h14c1.1 0 2-.9 2-2V5c0-1.1-.9-2-2-2zM9 17H7v-7h2v7zm4 0h-2V7h2v10zm4 0h-2v-4h2v4z\"/>\n",
              "    </g>\n",
              "</svg>\n",
              "  </button>\n",
              "\n",
              "<style>\n",
              "  .colab-df-quickchart {\n",
              "      --bg-color: #E8F0FE;\n",
              "      --fill-color: #1967D2;\n",
              "      --hover-bg-color: #E2EBFA;\n",
              "      --hover-fill-color: #174EA6;\n",
              "      --disabled-fill-color: #AAA;\n",
              "      --disabled-bg-color: #DDD;\n",
              "  }\n",
              "\n",
              "  [theme=dark] .colab-df-quickchart {\n",
              "      --bg-color: #3B4455;\n",
              "      --fill-color: #D2E3FC;\n",
              "      --hover-bg-color: #434B5C;\n",
              "      --hover-fill-color: #FFFFFF;\n",
              "      --disabled-bg-color: #3B4455;\n",
              "      --disabled-fill-color: #666;\n",
              "  }\n",
              "\n",
              "  .colab-df-quickchart {\n",
              "    background-color: var(--bg-color);\n",
              "    border: none;\n",
              "    border-radius: 50%;\n",
              "    cursor: pointer;\n",
              "    display: none;\n",
              "    fill: var(--fill-color);\n",
              "    height: 32px;\n",
              "    padding: 0;\n",
              "    width: 32px;\n",
              "  }\n",
              "\n",
              "  .colab-df-quickchart:hover {\n",
              "    background-color: var(--hover-bg-color);\n",
              "    box-shadow: 0 1px 2px rgba(60, 64, 67, 0.3), 0 1px 3px 1px rgba(60, 64, 67, 0.15);\n",
              "    fill: var(--button-hover-fill-color);\n",
              "  }\n",
              "\n",
              "  .colab-df-quickchart-complete:disabled,\n",
              "  .colab-df-quickchart-complete:disabled:hover {\n",
              "    background-color: var(--disabled-bg-color);\n",
              "    fill: var(--disabled-fill-color);\n",
              "    box-shadow: none;\n",
              "  }\n",
              "\n",
              "  .colab-df-spinner {\n",
              "    border: 2px solid var(--fill-color);\n",
              "    border-color: transparent;\n",
              "    border-bottom-color: var(--fill-color);\n",
              "    animation:\n",
              "      spin 1s steps(1) infinite;\n",
              "  }\n",
              "\n",
              "  @keyframes spin {\n",
              "    0% {\n",
              "      border-color: transparent;\n",
              "      border-bottom-color: var(--fill-color);\n",
              "      border-left-color: var(--fill-color);\n",
              "    }\n",
              "    20% {\n",
              "      border-color: transparent;\n",
              "      border-left-color: var(--fill-color);\n",
              "      border-top-color: var(--fill-color);\n",
              "    }\n",
              "    30% {\n",
              "      border-color: transparent;\n",
              "      border-left-color: var(--fill-color);\n",
              "      border-top-color: var(--fill-color);\n",
              "      border-right-color: var(--fill-color);\n",
              "    }\n",
              "    40% {\n",
              "      border-color: transparent;\n",
              "      border-right-color: var(--fill-color);\n",
              "      border-top-color: var(--fill-color);\n",
              "    }\n",
              "    60% {\n",
              "      border-color: transparent;\n",
              "      border-right-color: var(--fill-color);\n",
              "    }\n",
              "    80% {\n",
              "      border-color: transparent;\n",
              "      border-right-color: var(--fill-color);\n",
              "      border-bottom-color: var(--fill-color);\n",
              "    }\n",
              "    90% {\n",
              "      border-color: transparent;\n",
              "      border-bottom-color: var(--fill-color);\n",
              "    }\n",
              "  }\n",
              "</style>\n",
              "\n",
              "  <script>\n",
              "    async function quickchart(key) {\n",
              "      const quickchartButtonEl =\n",
              "        document.querySelector('#' + key + ' button');\n",
              "      quickchartButtonEl.disabled = true;  // To prevent multiple clicks.\n",
              "      quickchartButtonEl.classList.add('colab-df-spinner');\n",
              "      try {\n",
              "        const charts = await google.colab.kernel.invokeFunction(\n",
              "            'suggestCharts', [key], {});\n",
              "      } catch (error) {\n",
              "        console.error('Error during call to suggestCharts:', error);\n",
              "      }\n",
              "      quickchartButtonEl.classList.remove('colab-df-spinner');\n",
              "      quickchartButtonEl.classList.add('colab-df-quickchart-complete');\n",
              "    }\n",
              "    (() => {\n",
              "      let quickchartButtonEl =\n",
              "        document.querySelector('#df-a081eddd-8d1b-42de-a56d-22207894470b button');\n",
              "      quickchartButtonEl.style.display =\n",
              "        google.colab.kernel.accessAllowed ? 'block' : 'none';\n",
              "    })();\n",
              "  </script>\n",
              "</div>\n",
              "    </div>\n",
              "  </div>\n"
            ]
          },
          "metadata": {},
          "execution_count": 8
        }
      ]
    },
    {
      "cell_type": "markdown",
      "source": [
        "##Solution for Challenge 1: Feature Importance and Selection\n",
        "\n",
        "Utilize feature selection techniques to determine the most relevant features in the provided dataset. Implement methods like correlation analysis or feature importance ranking to Identify the most impactful features for predicting drug efficacy using KNN.\n"
      ],
      "metadata": {
        "id": "B6BFPl_SP8Tm"
      }
    },
    {
      "cell_type": "code",
      "source": [
        "# Encoding categorical variables and normalizing data\n",
        "label_encoder = LabelEncoder()\n",
        "df['Gender'] = label_encoder.fit_transform(df['Gender'])\n",
        "df['Drug Efficacy'] = label_encoder.fit_transform(df['Drug Efficacy'])\n",
        "\n",
        "scaler = StandardScaler()\n",
        "scaled_features = scaler.fit_transform(df.drop('Drug Efficacy', axis=1))\n"
      ],
      "metadata": {
        "id": "83Is-LpRSJnV"
      },
      "execution_count": null,
      "outputs": []
    },
    {
      "cell_type": "markdown",
      "source": [
        "##Solution for Challenge 2: Distance Metric Sensitivity Analysis\n",
        "\n",
        "Experiment with various distance metrics (e.g., Euclidean, Manhattan) in the KNN algorithm and analyze their performance on the provided dataset in a high-dimensional space.\n"
      ],
      "metadata": {
        "id": "9q7kpBwXSLuk"
      }
    },
    {
      "cell_type": "code",
      "source": [
        "# Splitting the dataset into training and testing sets\n",
        "X = scaled_features\n",
        "y = df['Drug Efficacy']\n",
        "X_train, X_test, y_train, y_test = train_test_split(X, y, test_size=0.3, random_state=42)\n",
        "\n",
        "# Experimenting with different distance metrics\n",
        "for metric in ['euclidean', 'manhattan']:\n",
        "    knn = KNeighborsClassifier(metric=metric)\n",
        "    knn.fit(X_train, y_train)\n",
        "    y_pred = knn.predict(X_test)\n",
        "    print(f\"Accuracy with {metric} metric: {accuracy_score(y_test, y_pred)}\")\n"
      ],
      "metadata": {
        "colab": {
          "base_uri": "https://localhost:8080/"
        },
        "id": "r81LC-5bSSmI",
        "outputId": "8aaef396-d4ad-4411-c5e1-b0b9fb514a7c"
      },
      "execution_count": null,
      "outputs": [
        {
          "output_type": "stream",
          "name": "stdout",
          "text": [
            "Accuracy with euclidean metric: 0.45\n",
            "Accuracy with manhattan metric: 0.48333333333333334\n"
          ]
        }
      ]
    },
    {
      "cell_type": "markdown",
      "source": [
        "##Challenge 3: Optimizing the Value of 'K'\n",
        "\n",
        "Conduct a search for the best 'K' value, considering the balance between underfitting and overfitting. Evaluate the model's performance at different 'K' values.\n"
      ],
      "metadata": {
        "id": "mgsGSJ2lSXBz"
      }
    },
    {
      "cell_type": "code",
      "source": [
        "# Finding the optimal K value\n",
        "param_grid = {'n_neighbors': np.arange(1, 25)}\n",
        "knn = KNeighborsClassifier()\n",
        "knn_cv = GridSearchCV(knn, param_grid, cv=5)\n",
        "knn_cv.fit(X_train, y_train)\n",
        "print(f\"Best K Value: {knn_cv.best_params_['n_neighbors']}\")\n"
      ],
      "metadata": {
        "colab": {
          "base_uri": "https://localhost:8080/"
        },
        "id": "naBKFoziSeGh",
        "outputId": "98281142-97cd-4bd2-b062-6a746d2abbb0"
      },
      "execution_count": null,
      "outputs": [
        {
          "output_type": "stream",
          "name": "stdout",
          "text": [
            "Best K Value: 5\n"
          ]
        }
      ]
    },
    {
      "cell_type": "markdown",
      "source": [
        "##Challenge 4: Dimensionality Reduction and Its Effects\n",
        "\n",
        "Apply a dimensionality reduction technique like PCA to the dataset and observe the changes in KNN's performance.\n"
      ],
      "metadata": {
        "id": "b6wEw-ajStjX"
      }
    },
    {
      "cell_type": "code",
      "source": [
        "# Applying PCA for dimensionality reduction\n",
        "pca = PCA(n_components=2)\n",
        "X_pca = pca.fit_transform(X)\n",
        "X_train_pca, X_test_pca, y_train, y_test = train_test_split(X_pca, y, test_size=0.3, random_state=42)\n",
        "\n",
        "# KNN with reduced dimensions\n",
        "knn = KNeighborsClassifier(n_neighbors=knn_cv.best_params_['n_neighbors'])\n",
        "knn.fit(X_train_pca, y_train)\n",
        "y_pred_pca = knn.predict(X_test_pca)\n",
        "print(f\"Accuracy with PCA: {accuracy_score(y_test, y_pred_pca)}\")\n"
      ],
      "metadata": {
        "colab": {
          "base_uri": "https://localhost:8080/"
        },
        "id": "Z2uAb-2dS0Ds",
        "outputId": "3e77ad89-928b-450d-e9fb-279bdf5da223"
      },
      "execution_count": null,
      "outputs": [
        {
          "output_type": "stream",
          "name": "stdout",
          "text": [
            "Accuracy with PCA: 0.6166666666666667\n"
          ]
        }
      ]
    },
    {
      "cell_type": "markdown",
      "source": [
        "##Challenge 5: Model Evaluation and Validation\n",
        "\n",
        "Use cross-validation and various performance metrics (accuracy, precision, recall, F1-score) to assess the KNN model trained on the selected features.\n"
      ],
      "metadata": {
        "id": "lZSIu5jkTISd"
      }
    },
    {
      "cell_type": "code",
      "source": [
        "# Evaluating the model using cross-validation\n",
        "knn = KNeighborsClassifier(n_neighbors=knn_cv.best_params_['n_neighbors'])\n",
        "cv_scores = cross_val_score(knn, X, y, cv=5)\n",
        "print(f\"Cross-validated scores: {cv_scores.mean()}\")\n",
        "\n",
        "# Confusion Matrix\n",
        "knn.fit(X_train, y_train)\n",
        "y_pred = knn.predict(X_test)\n",
        "print(\"Confusion Matrix:\")\n",
        "print(confusion_matrix(y_test, y_pred))\n",
        "\n",
        "# Visualization of the PCA-reduced data\n",
        "plt.figure(figsize=(8, 6))\n",
        "sns.scatterplot(x=X_pca[:, 0], y=X_pca[:, 1], hue=y)\n",
        "plt.title('PCA-reduced Data Visualization')\n",
        "plt.show()"
      ],
      "metadata": {
        "colab": {
          "base_uri": "https://localhost:8080/",
          "height": 600
        },
        "id": "6i1B1jxoTOBg",
        "outputId": "a9ff7e47-6c75-4d90-dced-47c5e0d954e3"
      },
      "execution_count": null,
      "outputs": [
        {
          "output_type": "stream",
          "name": "stdout",
          "text": [
            "Cross-validated scores: 0.495\n",
            "Confusion Matrix:\n",
            "[[11 14]\n",
            " [19 16]]\n"
          ]
        },
        {
          "output_type": "display_data",
          "data": {
            "text/plain": [
              "<Figure size 800x600 with 1 Axes>"
            ],
            "image/png": "[encoded data removed]"
          },
          "metadata": {}
        }
      ]
    }
  ]
}
